{
  "cells": [
    {
      "cell_type": "markdown",
      "metadata": {
        "id": "XxHOMFHWA_96"
      },
      "source": [
        "Intializing the functions + parameters + data for the training and test."
      ]
    },
    {
      "cell_type": "code",
      "execution_count": null,
      "metadata": {
        "colab": {
          "base_uri": "https://localhost:8080/"
        },
        "id": "d_UaAdjpA_99",
        "outputId": "070ad535-bd95-4b68-e2cd-5be9727854a3"
      },
      "outputs": [
        {
          "name": "stdout",
          "output_type": "stream",
          "text": [
            "input: \t X shape:  torch.Size([60000, 28, 28])\t\t Y shape:  torch.Size([60000])\n",
            "output: \t X shape:  torch.Size([18000, 28, 28])\t\t Y shape:  torch.Size([18000])\n",
            "input: \t X shape:  torch.Size([10000, 28, 28])\t\t Y shape:  torch.Size([10000])\n",
            "output: \t X shape:  torch.Size([3000, 28, 28])\t\t Y shape:  torch.Size([3000])\n",
            "input: \t X shape:  torch.Size([60000, 28, 28])\t\t Y shape:  torch.Size([60000])\n",
            "output: \t X shape:  torch.Size([42000, 28, 28])\t\t Y shape:  torch.Size([42000])\n",
            "input: \t X shape:  torch.Size([10000, 28, 28])\t\t Y shape:  torch.Size([10000])\n",
            "output: \t X shape:  torch.Size([7000, 28, 28])\t\t Y shape:  torch.Size([7000])\n"
          ]
        }
      ],
      "source": [
        "import torch\n",
        "import matplotlib.pyplot as plt\n",
        "import torch.nn.functional as F\n",
        "import torch.nn as nn\n",
        "from torch import optim\n",
        "from torchvision import datasets, transforms\n",
        "from torchvision.transforms import ToTensor\n",
        "from torchvision.utils import make_grid\n",
        "from tqdm import tqdm\n",
        "import os\n",
        "import matplotlib.pyplot as plt\n",
        "\n",
        "def train_model(model, train_loader, criterion, optimizer, num_epochs, path, print_progress=True):\n",
        "    model.train()\n",
        "    loss_history = []\n",
        "    accuracy_history = []\n",
        "\n",
        "    for epoch in range(num_epochs):\n",
        "        total_loss = 0.0\n",
        "        correct = 0\n",
        "        total = 0\n",
        "\n",
        "        for data, labels in tqdm(train_loader, desc=f'Epoch {epoch}/{num_epochs}', unit='batch', disable=not print_progress):\n",
        "            optimizer.zero_grad()\n",
        "            output = model(data)\n",
        "            loss = criterion(output, labels)\n",
        "            loss.backward()\n",
        "            optimizer.step()\n",
        "            total_loss += loss.item()\n",
        "\n",
        "            _, predicted = torch.max(output, 1)\n",
        "            total += labels.size(0)\n",
        "            correct += (predicted == labels).sum().item()\n",
        "\n",
        "        average_loss = total_loss / len(train_loader)\n",
        "        accuracy = correct / total\n",
        "\n",
        "        if print_progress:\n",
        "            print(f'Epoch {epoch+1}/{num_epochs}, Average Loss: {average_loss:.4f}, Accuracy: {accuracy * 100:.2f}%')\n",
        "\n",
        "        # Save loss and accuracy for plotting\n",
        "        loss_history.append(average_loss)\n",
        "        accuracy_history.append(accuracy)\n",
        "\n",
        "    # Plot loss and accuracy\n",
        "    plt.figure(figsize=(10, 5))\n",
        "\n",
        "    # Plot loss\n",
        "    plt.subplot(1, 2, 1)\n",
        "    plt.plot(range(1, num_epochs + 1), loss_history, label='Training Loss')\n",
        "    plt.xlabel('Epoch')\n",
        "    plt.ylabel('Loss')\n",
        "    plt.title('Training Loss')\n",
        "    plt.legend()\n",
        "\n",
        "    # Plot accuracy\n",
        "    plt.subplot(1, 2, 2)\n",
        "    plt.plot(range(1, num_epochs + 1), accuracy_history, label='Training Accuracy')\n",
        "    plt.xlabel('Epoch')\n",
        "    plt.ylabel('Accuracy')\n",
        "    plt.title('Training Accuracy')\n",
        "    plt.legend()\n",
        "\n",
        "    # Save the plots as one image\n",
        "    plt.tight_layout()\n",
        "    plt.savefig(path)  # Save the plots as one image\n",
        "\n",
        "    return model\n",
        "\n",
        "\n",
        "def test_model(model, test_loader):\n",
        "    model.eval()\n",
        "    correct = 0\n",
        "    total = 0\n",
        "\n",
        "    with torch.no_grad():\n",
        "        for data, labels in test_loader:\n",
        "            output = model(data)\n",
        "            _, predicted = torch.max(output.data, 1)\n",
        "            total += labels.size(0)\n",
        "            correct += (predicted == labels).sum().item()\n",
        "\n",
        "    accuracy = correct / total\n",
        "    print(f'Test Accuracy: {accuracy * 100:.2f}%')\n",
        "\n",
        "def view_data_sample(loader):\n",
        "    image, label = next(iter(loader))\n",
        "    plt.figure(figsize=(16, 8))\n",
        "    plt.axis('off')\n",
        "    plt.imshow(make_grid(image, nrow=16).permute((1, 2, 0)))\n",
        "\n",
        "def count_parameters(model):\n",
        "    return sum(p.numel() for p in model.parameters() if p.requires_grad)\n",
        "\n",
        "def splice_batch(X, Y, num_of_labels, prints=True):\n",
        "    if prints:\n",
        "        print('input: ', end=\"\")\n",
        "        print(\"\\t X shape: \", X.shape, end='\\t')\n",
        "        print(\"\\t Y shape: \", Y.shape)\n",
        "    X = X[Y < num_of_labels]\n",
        "    Y = Y[Y < num_of_labels]\n",
        "    if prints:\n",
        "        print('output: ', end=\"\")\n",
        "        print(\"\\t X shape: \", X.shape, end='\\t')\n",
        "        print(\"\\t Y shape: \", Y.shape)\n",
        "    return X, Y\n",
        "\n",
        "\n",
        "\n",
        "# Parameters\n",
        "batch_size = 128\n",
        "lr = 0.001\n",
        "\n",
        "# Download and load the training data\n",
        "trainset = datasets.FashionMNIST('F_MNIST_data/', download=True, train=True, transform=ToTensor())\n",
        "trainloader = torch.utils.data.DataLoader(trainset, batch_size=batch_size, shuffle=True)\n",
        "\n",
        "# Download and load the test data\n",
        "testset = datasets.FashionMNIST('F_MNIST_data/', download=True, train=False, transform=ToTensor())\n",
        "testloader = torch.utils.data.DataLoader(testset, batch_size=batch_size, shuffle=False)\n",
        "\n",
        "# Data for the first model, only 3 classes\n",
        "train_data_3, train_labels_3 = splice_batch(trainset.data, trainset.targets, num_of_labels=3)\n",
        "train_data_3 = train_data_3.float() / 255.0  # Normalization\n",
        "train_dataset_3 = torch.utils.data.TensorDataset(train_data_3, train_labels_3)\n",
        "train_loader_3 = torch.utils.data.DataLoader(train_dataset_3, batch_size=batch_size, shuffle=True)\n",
        "\n",
        "test_data_3, test_labels_3 = splice_batch(testset.data, testset.targets, num_of_labels=3)\n",
        "test_data_3 = test_data_3.float() / 255.0  # Normalization\n",
        "test_dataset_3 = torch.utils.data.TensorDataset(test_data_3, test_labels_3)\n",
        "test_loader_3 = torch.utils.data.DataLoader(test_dataset_3, batch_size=batch_size, shuffle=False)\n",
        "\n",
        "\n",
        "\n",
        "# Data for the first model, only 7 classes\n",
        "train_data_7, train_labels_7 = splice_batch(trainset.data, trainset.targets, num_of_labels=7)\n",
        "train_data_7 = train_data_7.float() / 255.0  # Normalization\n",
        "train_dataset_7 = torch.utils.data.TensorDataset(train_data_7, train_labels_7)\n",
        "train_loader_7 = torch.utils.data.DataLoader(train_dataset_7, batch_size=batch_size, shuffle=False)\n",
        "\n",
        "test_data_7, test_labels_7 = splice_batch(testset.data, testset.targets, num_of_labels=7)\n",
        "test_data_7 = test_data_7.float() / 255.0  # Normalization\n",
        "test_dataset_7 = torch.utils.data.TensorDataset(test_data_7, test_labels_7)\n",
        "test_loader_7 = torch.utils.data.DataLoader(test_dataset_7, batch_size=batch_size, shuffle=False)"
      ]
    },
    {
      "cell_type": "code",
      "execution_count": 2,
      "metadata": {},
      "outputs": [],
      "source": [
        "# The models architecture and classes:\n",
        "class model_1(nn.Module):\n",
        "    def __init__(self):\n",
        "        super(model_1, self).__init__()\n",
        "        self.fc1 = nn.Linear(28 * 28, 60)\n",
        "        self.fc2 = nn.Linear(60, 20)\n",
        "        self.fc3 = nn.Linear(20, 3)\n",
        "\n",
        "    def forward(self, x):\n",
        "        x = x.view(-1, 28 * 28)\n",
        "        x = self.fc1(x)\n",
        "        x = F.relu(x)\n",
        "        x = self.fc2(x)\n",
        "        x = F.relu(x)\n",
        "        x = self.fc3(x)\n",
        "        return x\n",
        "    \n",
        "class model_2(nn.Module):\n",
        "    def __init__(self):\n",
        "        super(model_2, self).__init__()\n",
        "        self.fc1 = nn.Linear(28 * 28, 60)\n",
        "        self.fc2 = nn.Linear(60, 20)\n",
        "        self.fc3 = nn.Linear(20, 7)\n",
        "\n",
        "    def forward(self, x):\n",
        "        x = x.view(-1, 28 * 28)\n",
        "        x = self.fc1(x)\n",
        "        x = F.relu(x)\n",
        "        x = self.fc2(x)\n",
        "        x = F.relu(x)\n",
        "        x = self.fc3(x)\n",
        "        return x\n",
        "\n",
        "class model_2(nn.Module):\n",
        "    def __init__(self):\n",
        "        super(model_2, self).__init__()\n",
        "        self.fc1 = nn.Linear(28 * 28, 62)\n",
        "        self.fc2 = nn.Linear(62, 7)\n",
        "\n",
        "    def forward(self, x):\n",
        "        x = x.view(-1, 28 * 28)\n",
        "        x = self.fc1(x)\n",
        "        x = F.relu(x)\n",
        "        x = self.fc2(x)\n",
        "        return x\n",
        "\n",
        "class model_3(nn.Module):\n",
        "    def __init__(self):\n",
        "        super(model_3, self).__init__()\n",
        "        self.fc1 = nn.Linear(28 * 28, 60)\n",
        "        self.fc2 = nn.Linear(60, 28)\n",
        "        self.fc3 = nn.Linear(28, 14)\n",
        "        self.fc4 = nn.Linear(14, 7)\n",
        "\n",
        "    def forward(self, x):\n",
        "        x = x.view(-1, 28 * 28)\n",
        "        x = self.fc1(x)\n",
        "        x = F.relu(x)\n",
        "        \n",
        "        x = self.fc2(x)\n",
        "        x = F.relu(x)\n",
        "        \n",
        "        x = self.fc3(x)\n",
        "        x = F.relu(x)\n",
        "\n",
        "        x = self.fc4(x)\n",
        "        return x\n",
        "\n",
        "class model_4(nn.Module):\n",
        "    def __init__(self):\n",
        "        super(model_4, self).__init__()\n",
        "\n",
        "        self.conv1 = nn.Conv2d(1, 20, kernel_size=3, stride=1, padding=1)\n",
        "        self.dropout1 = nn.Dropout(0.25)\n",
        "\n",
        "        self.conv2 = nn.Conv2d(20, 40, kernel_size=3, stride=1, padding=1)\n",
        "        self.dropout2 = nn.Dropout(0.25)\n",
        "\n",
        "        self.conv3 = nn.Conv2d(40, 90, kernel_size=3, stride=1, padding=1)\n",
        "        self.pool = nn.MaxPool2d(2, 2)\n",
        "\n",
        "        self.fc = nn.Linear(810, 7)  # Output size is 7 for 7 classes\n",
        "\n",
        "    def forward(self, x):\n",
        "        x = x.unsqueeze(1)\n",
        "        x = self.pool(F.relu(self.conv1(x)))\n",
        "        x = self.dropout1(x)\n",
        "        x = self.pool(F.relu(self.conv2(x)))\n",
        "        x = self.dropout2(x)\n",
        "        x = self.pool(F.relu(self.conv3(x)))\n",
        "        x = x.view(-1, self.num_flat_features(x))\n",
        "        x = self.fc(x)\n",
        "        return x\n",
        "\n",
        "    def num_flat_features(self, x):\n",
        "        size = x.size()[1:]\n",
        "        num_features = 1\n",
        "        for s in size:\n",
        "            num_features *= s\n",
        "        return num_features"
      ]
    },
    {
      "cell_type": "code",
      "execution_count": 3,
      "metadata": {},
      "outputs": [],
      "source": [
        "MODE = \"TRAIN\" # Choose the mode to run the code \n",
        "#\"TRAIN\" to train the models and save them \n",
        "\n",
        "#\"TEST\" to load and test the saved models"
      ]
    },
    {
      "cell_type": "code",
      "execution_count": 4,
      "metadata": {},
      "outputs": [],
      "source": [
        "if MODE == \"TEST\":\n",
        "    # Load the saved models\n",
        "    model_paths = [\n",
        "        'saved_models/model_1_trained.pth',\n",
        "        'saved_models/model_2_trained.pth',\n",
        "        'saved_models/model_3_trained.pth',\n",
        "        'saved_models/model_4_trained.pth'\n",
        "    ]\n",
        "\n",
        "    # Test each model\n",
        "    for i, model_path in enumerate(model_paths, start=1):\n",
        "        # Determine the appropriate test loader based on the model index\n",
        "        if i == 1:\n",
        "            current_test_loader = test_loader_3\n",
        "        else:\n",
        "            current_test_loader = test_loader_7\n",
        "        \n",
        "        # Instantiate the respective model class\n",
        "        model_class = globals()[f'model_{i}']  # Get the model class dynamically\n",
        "        model = model_class()\n",
        "        \n",
        "        # Load the trained model state dictionary\n",
        "        model.load_state_dict(torch.load(model_path))\n",
        "        \n",
        "        # Set the model to evaluation mode\n",
        "        model.eval()\n",
        "        \n",
        "        # Test the model\n",
        "        print(f\"Testing Model {i}:\")\n",
        "        test_model(model, current_test_loader)"
      ]
    },
    {
      "cell_type": "code",
      "execution_count": 5,
      "metadata": {
        "colab": {
          "base_uri": "https://localhost:8080/"
        },
        "id": "8WxAZQX9A_-A",
        "outputId": "c519337f-a1cd-4c27-a212-70daf53d6282"
      },
      "outputs": [
        {
          "name": "stderr",
          "output_type": "stream",
          "text": [
            "Epoch 0/20: 100%|██████████| 141/141 [00:00<00:00, 395.56batch/s]\n"
          ]
        },
        {
          "name": "stdout",
          "output_type": "stream",
          "text": [
            "Epoch 1/20, Average Loss: 0.3109, Accuracy: 92.19%\n"
          ]
        },
        {
          "name": "stderr",
          "output_type": "stream",
          "text": [
            "Epoch 1/20: 100%|██████████| 141/141 [00:00<00:00, 498.16batch/s]\n"
          ]
        },
        {
          "name": "stdout",
          "output_type": "stream",
          "text": [
            "Epoch 2/20, Average Loss: 0.1259, Accuracy: 96.31%\n"
          ]
        },
        {
          "name": "stderr",
          "output_type": "stream",
          "text": [
            "Epoch 2/20: 100%|██████████| 141/141 [00:00<00:00, 501.03batch/s]\n"
          ]
        },
        {
          "name": "stdout",
          "output_type": "stream",
          "text": [
            "Epoch 3/20, Average Loss: 0.1093, Accuracy: 96.88%\n"
          ]
        },
        {
          "name": "stderr",
          "output_type": "stream",
          "text": [
            "Epoch 3/20: 100%|██████████| 141/141 [00:00<00:00, 537.03batch/s]\n"
          ]
        },
        {
          "name": "stdout",
          "output_type": "stream",
          "text": [
            "Epoch 4/20, Average Loss: 0.0988, Accuracy: 97.01%\n"
          ]
        },
        {
          "name": "stderr",
          "output_type": "stream",
          "text": [
            "Epoch 4/20: 100%|██████████| 141/141 [00:00<00:00, 519.65batch/s]\n"
          ]
        },
        {
          "name": "stdout",
          "output_type": "stream",
          "text": [
            "Epoch 5/20, Average Loss: 0.0913, Accuracy: 97.27%\n"
          ]
        },
        {
          "name": "stderr",
          "output_type": "stream",
          "text": [
            "Epoch 5/20: 100%|██████████| 141/141 [00:00<00:00, 476.89batch/s]\n"
          ]
        },
        {
          "name": "stdout",
          "output_type": "stream",
          "text": [
            "Epoch 6/20, Average Loss: 0.0871, Accuracy: 97.32%\n"
          ]
        },
        {
          "name": "stderr",
          "output_type": "stream",
          "text": [
            "Epoch 6/20: 100%|██████████| 141/141 [00:00<00:00, 483.55batch/s]\n"
          ]
        },
        {
          "name": "stdout",
          "output_type": "stream",
          "text": [
            "Epoch 7/20, Average Loss: 0.0812, Accuracy: 97.49%\n"
          ]
        },
        {
          "name": "stderr",
          "output_type": "stream",
          "text": [
            "Epoch 7/20: 100%|██████████| 141/141 [00:00<00:00, 336.63batch/s]\n"
          ]
        },
        {
          "name": "stdout",
          "output_type": "stream",
          "text": [
            "Epoch 8/20, Average Loss: 0.0787, Accuracy: 97.49%\n"
          ]
        },
        {
          "name": "stderr",
          "output_type": "stream",
          "text": [
            "Epoch 8/20: 100%|██████████| 141/141 [00:00<00:00, 464.91batch/s]\n"
          ]
        },
        {
          "name": "stdout",
          "output_type": "stream",
          "text": [
            "Epoch 9/20, Average Loss: 0.0717, Accuracy: 97.73%\n"
          ]
        },
        {
          "name": "stderr",
          "output_type": "stream",
          "text": [
            "Epoch 9/20: 100%|██████████| 141/141 [00:00<00:00, 511.19batch/s]\n"
          ]
        },
        {
          "name": "stdout",
          "output_type": "stream",
          "text": [
            "Epoch 10/20, Average Loss: 0.0695, Accuracy: 97.75%\n"
          ]
        },
        {
          "name": "stderr",
          "output_type": "stream",
          "text": [
            "Epoch 10/20: 100%|██████████| 141/141 [00:00<00:00, 486.48batch/s]\n"
          ]
        },
        {
          "name": "stdout",
          "output_type": "stream",
          "text": [
            "Epoch 11/20, Average Loss: 0.0656, Accuracy: 97.82%\n"
          ]
        },
        {
          "name": "stderr",
          "output_type": "stream",
          "text": [
            "Epoch 11/20: 100%|██████████| 141/141 [00:00<00:00, 503.44batch/s]\n"
          ]
        },
        {
          "name": "stdout",
          "output_type": "stream",
          "text": [
            "Epoch 12/20, Average Loss: 0.0632, Accuracy: 97.93%\n"
          ]
        },
        {
          "name": "stderr",
          "output_type": "stream",
          "text": [
            "Epoch 12/20: 100%|██████████| 141/141 [00:00<00:00, 505.28batch/s]\n"
          ]
        },
        {
          "name": "stdout",
          "output_type": "stream",
          "text": [
            "Epoch 13/20, Average Loss: 0.0638, Accuracy: 97.86%\n"
          ]
        },
        {
          "name": "stderr",
          "output_type": "stream",
          "text": [
            "Epoch 13/20: 100%|██████████| 141/141 [00:00<00:00, 491.54batch/s]\n"
          ]
        },
        {
          "name": "stdout",
          "output_type": "stream",
          "text": [
            "Epoch 14/20, Average Loss: 0.0590, Accuracy: 98.02%\n"
          ]
        },
        {
          "name": "stderr",
          "output_type": "stream",
          "text": [
            "Epoch 14/20: 100%|██████████| 141/141 [00:00<00:00, 459.12batch/s]\n"
          ]
        },
        {
          "name": "stdout",
          "output_type": "stream",
          "text": [
            "Epoch 15/20, Average Loss: 0.0567, Accuracy: 98.08%\n"
          ]
        },
        {
          "name": "stderr",
          "output_type": "stream",
          "text": [
            "Epoch 15/20: 100%|██████████| 141/141 [00:00<00:00, 492.19batch/s]\n"
          ]
        },
        {
          "name": "stdout",
          "output_type": "stream",
          "text": [
            "Epoch 16/20, Average Loss: 0.0529, Accuracy: 98.20%\n"
          ]
        },
        {
          "name": "stderr",
          "output_type": "stream",
          "text": [
            "Epoch 16/20: 100%|██████████| 141/141 [00:00<00:00, 494.30batch/s]\n"
          ]
        },
        {
          "name": "stdout",
          "output_type": "stream",
          "text": [
            "Epoch 17/20, Average Loss: 0.0518, Accuracy: 98.29%\n"
          ]
        },
        {
          "name": "stderr",
          "output_type": "stream",
          "text": [
            "Epoch 17/20: 100%|██████████| 141/141 [00:00<00:00, 490.35batch/s]\n"
          ]
        },
        {
          "name": "stdout",
          "output_type": "stream",
          "text": [
            "Epoch 18/20, Average Loss: 0.0520, Accuracy: 98.28%\n"
          ]
        },
        {
          "name": "stderr",
          "output_type": "stream",
          "text": [
            "Epoch 18/20: 100%|██████████| 141/141 [00:00<00:00, 484.16batch/s]\n"
          ]
        },
        {
          "name": "stdout",
          "output_type": "stream",
          "text": [
            "Epoch 19/20, Average Loss: 0.0498, Accuracy: 98.34%\n"
          ]
        },
        {
          "name": "stderr",
          "output_type": "stream",
          "text": [
            "Epoch 19/20: 100%|██████████| 141/141 [00:00<00:00, 482.25batch/s]\n"
          ]
        },
        {
          "name": "stdout",
          "output_type": "stream",
          "text": [
            "Epoch 20/20, Average Loss: 0.0468, Accuracy: 98.45%\n",
            "Test Accuracy: 97.30%\n",
            "48383\n",
            "Trained model-1 saved successfully at: saved_models/model_1_trained.pth\n"
          ]
        },
        {
          "data": {
            "image/png": "[encoded data removed]",
            "text/plain": [
              "<Figure size 1000x500 with 2 Axes>"
            ]
          },
          "metadata": {},
          "output_type": "display_data"
        }
      ],
      "source": [
        "if MODE==\"TRAIN\" or MODE==\"TRAIN1\":\n",
        "    # Train the first model\n",
        "    model_1 = model_1()\n",
        "    criterion_1 = nn.CrossEntropyLoss()\n",
        "    optimizer_1 = optim.Adam(model_1.parameters(), lr=lr)\n",
        "    model_1 = train_model(model_1, train_loader_3, criterion_1, optimizer_1, 20, \"saved_models/model1.png\")\n",
        "\n",
        "    # Test the first model\n",
        "    test_model(model_1, test_loader_3)\n",
        "    print(count_parameters(model_1))\n",
        "\n",
        "    # Save the trained model\n",
        "    model_path = os.path.join('saved_models', 'model_1_trained.pth')\n",
        "    torch.save(model_1.state_dict(), model_path)\n",
        "    print(f\"Trained model-1 saved successfully at: {model_path}\")"
      ]
    },
    {
      "cell_type": "code",
      "execution_count": 6,
      "metadata": {
        "colab": {
          "base_uri": "https://localhost:8080/"
        },
        "id": "PBGpSGZMA_-C",
        "outputId": "de41d080-12ea-4e0d-c640-4f466796ae9e"
      },
      "outputs": [
        {
          "name": "stderr",
          "output_type": "stream",
          "text": [
            "Epoch 0/25: 100%|██████████| 329/329 [00:00<00:00, 468.19batch/s]\n"
          ]
        },
        {
          "name": "stdout",
          "output_type": "stream",
          "text": [
            "Epoch 1/25, Average Loss: 0.6588, Accuracy: 77.24%\n"
          ]
        },
        {
          "name": "stderr",
          "output_type": "stream",
          "text": [
            "Epoch 1/25: 100%|██████████| 329/329 [00:00<00:00, 532.44batch/s]\n"
          ]
        },
        {
          "name": "stdout",
          "output_type": "stream",
          "text": [
            "Epoch 2/25, Average Loss: 0.4970, Accuracy: 82.05%\n"
          ]
        },
        {
          "name": "stderr",
          "output_type": "stream",
          "text": [
            "Epoch 2/25: 100%|██████████| 329/329 [00:00<00:00, 429.88batch/s]\n"
          ]
        },
        {
          "name": "stdout",
          "output_type": "stream",
          "text": [
            "Epoch 3/25, Average Loss: 0.4620, Accuracy: 83.11%\n"
          ]
        },
        {
          "name": "stderr",
          "output_type": "stream",
          "text": [
            "Epoch 3/25: 100%|██████████| 329/329 [00:00<00:00, 601.15batch/s]\n"
          ]
        },
        {
          "name": "stdout",
          "output_type": "stream",
          "text": [
            "Epoch 4/25, Average Loss: 0.4395, Accuracy: 83.86%\n"
          ]
        },
        {
          "name": "stderr",
          "output_type": "stream",
          "text": [
            "Epoch 4/25: 100%|██████████| 329/329 [00:00<00:00, 605.70batch/s]\n"
          ]
        },
        {
          "name": "stdout",
          "output_type": "stream",
          "text": [
            "Epoch 5/25, Average Loss: 0.4226, Accuracy: 84.53%\n"
          ]
        },
        {
          "name": "stderr",
          "output_type": "stream",
          "text": [
            "Epoch 5/25: 100%|██████████| 329/329 [00:00<00:00, 629.00batch/s]\n"
          ]
        },
        {
          "name": "stdout",
          "output_type": "stream",
          "text": [
            "Epoch 6/25, Average Loss: 0.4089, Accuracy: 84.94%\n"
          ]
        },
        {
          "name": "stderr",
          "output_type": "stream",
          "text": [
            "Epoch 6/25: 100%|██████████| 329/329 [00:00<00:00, 611.76batch/s]\n"
          ]
        },
        {
          "name": "stdout",
          "output_type": "stream",
          "text": [
            "Epoch 7/25, Average Loss: 0.3975, Accuracy: 85.30%\n"
          ]
        },
        {
          "name": "stderr",
          "output_type": "stream",
          "text": [
            "Epoch 7/25: 100%|██████████| 329/329 [00:01<00:00, 220.85batch/s]\n"
          ]
        },
        {
          "name": "stdout",
          "output_type": "stream",
          "text": [
            "Epoch 8/25, Average Loss: 0.3869, Accuracy: 85.64%\n"
          ]
        },
        {
          "name": "stderr",
          "output_type": "stream",
          "text": [
            "Epoch 8/25: 100%|██████████| 329/329 [00:01<00:00, 307.13batch/s]\n"
          ]
        },
        {
          "name": "stdout",
          "output_type": "stream",
          "text": [
            "Epoch 9/25, Average Loss: 0.3774, Accuracy: 85.97%\n"
          ]
        },
        {
          "name": "stderr",
          "output_type": "stream",
          "text": [
            "Epoch 9/25: 100%|██████████| 329/329 [00:00<00:00, 590.97batch/s]\n"
          ]
        },
        {
          "name": "stdout",
          "output_type": "stream",
          "text": [
            "Epoch 10/25, Average Loss: 0.3686, Accuracy: 86.34%\n"
          ]
        },
        {
          "name": "stderr",
          "output_type": "stream",
          "text": [
            "Epoch 10/25: 100%|██████████| 329/329 [00:00<00:00, 521.94batch/s]\n"
          ]
        },
        {
          "name": "stdout",
          "output_type": "stream",
          "text": [
            "Epoch 11/25, Average Loss: 0.3606, Accuracy: 86.56%\n"
          ]
        },
        {
          "name": "stderr",
          "output_type": "stream",
          "text": [
            "Epoch 11/25: 100%|██████████| 329/329 [00:00<00:00, 545.00batch/s]\n"
          ]
        },
        {
          "name": "stdout",
          "output_type": "stream",
          "text": [
            "Epoch 12/25, Average Loss: 0.3533, Accuracy: 86.86%\n"
          ]
        },
        {
          "name": "stderr",
          "output_type": "stream",
          "text": [
            "Epoch 12/25: 100%|██████████| 329/329 [00:00<00:00, 572.05batch/s]\n"
          ]
        },
        {
          "name": "stdout",
          "output_type": "stream",
          "text": [
            "Epoch 13/25, Average Loss: 0.3468, Accuracy: 87.10%\n"
          ]
        },
        {
          "name": "stderr",
          "output_type": "stream",
          "text": [
            "Epoch 13/25: 100%|██████████| 329/329 [00:00<00:00, 570.44batch/s]\n"
          ]
        },
        {
          "name": "stdout",
          "output_type": "stream",
          "text": [
            "Epoch 14/25, Average Loss: 0.3406, Accuracy: 87.30%\n"
          ]
        },
        {
          "name": "stderr",
          "output_type": "stream",
          "text": [
            "Epoch 14/25: 100%|██████████| 329/329 [00:00<00:00, 569.10batch/s]\n"
          ]
        },
        {
          "name": "stdout",
          "output_type": "stream",
          "text": [
            "Epoch 15/25, Average Loss: 0.3346, Accuracy: 87.46%\n"
          ]
        },
        {
          "name": "stderr",
          "output_type": "stream",
          "text": [
            "Epoch 15/25: 100%|██████████| 329/329 [00:00<00:00, 580.33batch/s]\n"
          ]
        },
        {
          "name": "stdout",
          "output_type": "stream",
          "text": [
            "Epoch 16/25, Average Loss: 0.3293, Accuracy: 87.70%\n"
          ]
        },
        {
          "name": "stderr",
          "output_type": "stream",
          "text": [
            "Epoch 16/25: 100%|██████████| 329/329 [00:00<00:00, 454.97batch/s]\n"
          ]
        },
        {
          "name": "stdout",
          "output_type": "stream",
          "text": [
            "Epoch 17/25, Average Loss: 0.3243, Accuracy: 87.95%\n"
          ]
        },
        {
          "name": "stderr",
          "output_type": "stream",
          "text": [
            "Epoch 17/25: 100%|██████████| 329/329 [00:00<00:00, 545.78batch/s]\n"
          ]
        },
        {
          "name": "stdout",
          "output_type": "stream",
          "text": [
            "Epoch 18/25, Average Loss: 0.3200, Accuracy: 88.08%\n"
          ]
        },
        {
          "name": "stderr",
          "output_type": "stream",
          "text": [
            "Epoch 18/25: 100%|██████████| 329/329 [00:00<00:00, 582.74batch/s]\n"
          ]
        },
        {
          "name": "stdout",
          "output_type": "stream",
          "text": [
            "Epoch 19/25, Average Loss: 0.3152, Accuracy: 88.25%\n"
          ]
        },
        {
          "name": "stderr",
          "output_type": "stream",
          "text": [
            "Epoch 19/25: 100%|██████████| 329/329 [00:00<00:00, 577.94batch/s]\n"
          ]
        },
        {
          "name": "stdout",
          "output_type": "stream",
          "text": [
            "Epoch 20/25, Average Loss: 0.3113, Accuracy: 88.44%\n"
          ]
        },
        {
          "name": "stderr",
          "output_type": "stream",
          "text": [
            "Epoch 20/25: 100%|██████████| 329/329 [00:00<00:00, 597.32batch/s]\n"
          ]
        },
        {
          "name": "stdout",
          "output_type": "stream",
          "text": [
            "Epoch 21/25, Average Loss: 0.3073, Accuracy: 88.56%\n"
          ]
        },
        {
          "name": "stderr",
          "output_type": "stream",
          "text": [
            "Epoch 21/25: 100%|██████████| 329/329 [00:00<00:00, 585.81batch/s]\n"
          ]
        },
        {
          "name": "stdout",
          "output_type": "stream",
          "text": [
            "Epoch 22/25, Average Loss: 0.3033, Accuracy: 88.69%\n"
          ]
        },
        {
          "name": "stderr",
          "output_type": "stream",
          "text": [
            "Epoch 22/25: 100%|██████████| 329/329 [00:00<00:00, 583.13batch/s]\n"
          ]
        },
        {
          "name": "stdout",
          "output_type": "stream",
          "text": [
            "Epoch 23/25, Average Loss: 0.2999, Accuracy: 88.84%\n"
          ]
        },
        {
          "name": "stderr",
          "output_type": "stream",
          "text": [
            "Epoch 23/25: 100%|██████████| 329/329 [00:00<00:00, 581.51batch/s]\n"
          ]
        },
        {
          "name": "stdout",
          "output_type": "stream",
          "text": [
            "Epoch 24/25, Average Loss: 0.2960, Accuracy: 88.97%\n"
          ]
        },
        {
          "name": "stderr",
          "output_type": "stream",
          "text": [
            "Epoch 24/25: 100%|██████████| 329/329 [00:00<00:00, 584.60batch/s]\n"
          ]
        },
        {
          "name": "stdout",
          "output_type": "stream",
          "text": [
            "Epoch 25/25, Average Loss: 0.2925, Accuracy: 89.12%\n",
            "Test Accuracy: 85.13%\n",
            "49111\n",
            "Trained model-2 saved successfully at: saved_models/model_2_trained.pth\n"
          ]
        },
        {
          "data": {
            "image/png": "[encoded data removed]",
            "text/plain": [
              "<Figure size 1000x500 with 2 Axes>"
            ]
          },
          "metadata": {},
          "output_type": "display_data"
        }
      ],
      "source": [
        "if MODE==\"TRAIN\" or MODE==\"TRAIN2\":\n",
        "    # Train the second model\n",
        "    model_2 = model_2()\n",
        "    criterion_2 = nn.CrossEntropyLoss()\n",
        "    optimizer_2 = optim.Adam(model_2.parameters(), lr=lr)\n",
        "    model_2 = train_model(model_2, train_loader_7, criterion_2, optimizer_2, 25, \"saved_models/model2.png\")\n",
        "    # Test the second model\n",
        "    test_model(model_2, test_loader_7)\n",
        "    print(count_parameters(model_2))\n",
        "\n",
        "    # Save the trained model\n",
        "    model_path = os.path.join('saved_models', 'model_2_trained.pth')\n",
        "    torch.save(model_2.state_dict(), model_path)\n",
        "    print(f\"Trained model-2 saved successfully at: {model_path}\")"
      ]
    },
    {
      "cell_type": "code",
      "execution_count": 7,
      "metadata": {
        "colab": {
          "base_uri": "https://localhost:8080/",
          "height": 460
        },
        "id": "6-TNDkdSA_-C",
        "outputId": "8023d3a3-ecab-4327-eee1-5e297c97d71d"
      },
      "outputs": [
        {
          "name": "stderr",
          "output_type": "stream",
          "text": [
            "Epoch 0/40: 100%|██████████| 329/329 [00:00<00:00, 383.88batch/s]\n"
          ]
        },
        {
          "name": "stdout",
          "output_type": "stream",
          "text": [
            "Epoch 1/40, Average Loss: 0.8996, Accuracy: 65.44%\n"
          ]
        },
        {
          "name": "stderr",
          "output_type": "stream",
          "text": [
            "Epoch 1/40: 100%|██████████| 329/329 [00:00<00:00, 413.76batch/s]\n"
          ]
        },
        {
          "name": "stdout",
          "output_type": "stream",
          "text": [
            "Epoch 2/40, Average Loss: 0.5715, Accuracy: 78.86%\n"
          ]
        },
        {
          "name": "stderr",
          "output_type": "stream",
          "text": [
            "Epoch 2/40: 100%|██████████| 329/329 [00:00<00:00, 483.73batch/s]\n"
          ]
        },
        {
          "name": "stdout",
          "output_type": "stream",
          "text": [
            "Epoch 3/40, Average Loss: 0.5004, Accuracy: 81.96%\n"
          ]
        },
        {
          "name": "stderr",
          "output_type": "stream",
          "text": [
            "Epoch 3/40: 100%|██████████| 329/329 [00:00<00:00, 397.41batch/s]\n"
          ]
        },
        {
          "name": "stdout",
          "output_type": "stream",
          "text": [
            "Epoch 4/40, Average Loss: 0.4625, Accuracy: 83.09%\n"
          ]
        },
        {
          "name": "stderr",
          "output_type": "stream",
          "text": [
            "Epoch 4/40: 100%|██████████| 329/329 [00:00<00:00, 425.24batch/s]\n"
          ]
        },
        {
          "name": "stdout",
          "output_type": "stream",
          "text": [
            "Epoch 5/40, Average Loss: 0.4379, Accuracy: 83.88%\n"
          ]
        },
        {
          "name": "stderr",
          "output_type": "stream",
          "text": [
            "Epoch 5/40: 100%|██████████| 329/329 [00:00<00:00, 497.44batch/s]\n"
          ]
        },
        {
          "name": "stdout",
          "output_type": "stream",
          "text": [
            "Epoch 6/40, Average Loss: 0.4183, Accuracy: 84.56%\n"
          ]
        },
        {
          "name": "stderr",
          "output_type": "stream",
          "text": [
            "Epoch 6/40: 100%|██████████| 329/329 [00:02<00:00, 158.35batch/s]\n"
          ]
        },
        {
          "name": "stdout",
          "output_type": "stream",
          "text": [
            "Epoch 7/40, Average Loss: 0.4026, Accuracy: 85.15%\n"
          ]
        },
        {
          "name": "stderr",
          "output_type": "stream",
          "text": [
            "Epoch 7/40: 100%|██████████| 329/329 [00:00<00:00, 483.83batch/s]\n"
          ]
        },
        {
          "name": "stdout",
          "output_type": "stream",
          "text": [
            "Epoch 8/40, Average Loss: 0.3895, Accuracy: 85.60%\n"
          ]
        },
        {
          "name": "stderr",
          "output_type": "stream",
          "text": [
            "Epoch 8/40: 100%|██████████| 329/329 [00:00<00:00, 477.20batch/s]\n"
          ]
        },
        {
          "name": "stdout",
          "output_type": "stream",
          "text": [
            "Epoch 9/40, Average Loss: 0.3787, Accuracy: 85.93%\n"
          ]
        },
        {
          "name": "stderr",
          "output_type": "stream",
          "text": [
            "Epoch 9/40: 100%|██████████| 329/329 [00:00<00:00, 482.04batch/s]\n"
          ]
        },
        {
          "name": "stdout",
          "output_type": "stream",
          "text": [
            "Epoch 10/40, Average Loss: 0.3682, Accuracy: 86.33%\n"
          ]
        },
        {
          "name": "stderr",
          "output_type": "stream",
          "text": [
            "Epoch 10/40: 100%|██████████| 329/329 [00:00<00:00, 485.36batch/s]\n"
          ]
        },
        {
          "name": "stdout",
          "output_type": "stream",
          "text": [
            "Epoch 11/40, Average Loss: 0.3597, Accuracy: 86.67%\n"
          ]
        },
        {
          "name": "stderr",
          "output_type": "stream",
          "text": [
            "Epoch 11/40: 100%|██████████| 329/329 [00:00<00:00, 411.12batch/s]\n"
          ]
        },
        {
          "name": "stdout",
          "output_type": "stream",
          "text": [
            "Epoch 12/40, Average Loss: 0.3521, Accuracy: 86.87%\n"
          ]
        },
        {
          "name": "stderr",
          "output_type": "stream",
          "text": [
            "Epoch 12/40: 100%|██████████| 329/329 [00:00<00:00, 406.77batch/s]\n"
          ]
        },
        {
          "name": "stdout",
          "output_type": "stream",
          "text": [
            "Epoch 13/40, Average Loss: 0.3448, Accuracy: 87.17%\n"
          ]
        },
        {
          "name": "stderr",
          "output_type": "stream",
          "text": [
            "Epoch 13/40: 100%|██████████| 329/329 [00:01<00:00, 313.49batch/s]\n"
          ]
        },
        {
          "name": "stdout",
          "output_type": "stream",
          "text": [
            "Epoch 14/40, Average Loss: 0.3377, Accuracy: 87.44%\n"
          ]
        },
        {
          "name": "stderr",
          "output_type": "stream",
          "text": [
            "Epoch 14/40: 100%|██████████| 329/329 [00:00<00:00, 345.94batch/s]\n"
          ]
        },
        {
          "name": "stdout",
          "output_type": "stream",
          "text": [
            "Epoch 15/40, Average Loss: 0.3315, Accuracy: 87.69%\n"
          ]
        },
        {
          "name": "stderr",
          "output_type": "stream",
          "text": [
            "Epoch 15/40: 100%|██████████| 329/329 [00:00<00:00, 400.83batch/s]\n"
          ]
        },
        {
          "name": "stdout",
          "output_type": "stream",
          "text": [
            "Epoch 16/40, Average Loss: 0.3258, Accuracy: 87.90%\n"
          ]
        },
        {
          "name": "stderr",
          "output_type": "stream",
          "text": [
            "Epoch 16/40: 100%|██████████| 329/329 [00:00<00:00, 444.40batch/s]\n"
          ]
        },
        {
          "name": "stdout",
          "output_type": "stream",
          "text": [
            "Epoch 17/40, Average Loss: 0.3204, Accuracy: 88.05%\n"
          ]
        },
        {
          "name": "stderr",
          "output_type": "stream",
          "text": [
            "Epoch 17/40: 100%|██████████| 329/329 [00:00<00:00, 472.08batch/s]\n"
          ]
        },
        {
          "name": "stdout",
          "output_type": "stream",
          "text": [
            "Epoch 18/40, Average Loss: 0.3148, Accuracy: 88.27%\n"
          ]
        },
        {
          "name": "stderr",
          "output_type": "stream",
          "text": [
            "Epoch 18/40: 100%|██████████| 329/329 [00:00<00:00, 478.41batch/s]\n"
          ]
        },
        {
          "name": "stdout",
          "output_type": "stream",
          "text": [
            "Epoch 19/40, Average Loss: 0.3096, Accuracy: 88.42%\n"
          ]
        },
        {
          "name": "stderr",
          "output_type": "stream",
          "text": [
            "Epoch 19/40: 100%|██████████| 329/329 [00:00<00:00, 480.13batch/s]\n"
          ]
        },
        {
          "name": "stdout",
          "output_type": "stream",
          "text": [
            "Epoch 20/40, Average Loss: 0.3042, Accuracy: 88.68%\n"
          ]
        },
        {
          "name": "stderr",
          "output_type": "stream",
          "text": [
            "Epoch 20/40: 100%|██████████| 329/329 [00:00<00:00, 399.05batch/s]\n"
          ]
        },
        {
          "name": "stdout",
          "output_type": "stream",
          "text": [
            "Epoch 21/40, Average Loss: 0.2993, Accuracy: 88.88%\n"
          ]
        },
        {
          "name": "stderr",
          "output_type": "stream",
          "text": [
            "Epoch 21/40: 100%|██████████| 329/329 [00:01<00:00, 319.77batch/s]\n"
          ]
        },
        {
          "name": "stdout",
          "output_type": "stream",
          "text": [
            "Epoch 22/40, Average Loss: 0.2944, Accuracy: 89.06%\n"
          ]
        },
        {
          "name": "stderr",
          "output_type": "stream",
          "text": [
            "Epoch 22/40: 100%|██████████| 329/329 [00:00<00:00, 439.58batch/s]\n"
          ]
        },
        {
          "name": "stdout",
          "output_type": "stream",
          "text": [
            "Epoch 23/40, Average Loss: 0.2894, Accuracy: 89.25%\n"
          ]
        },
        {
          "name": "stderr",
          "output_type": "stream",
          "text": [
            "Epoch 23/40: 100%|██████████| 329/329 [00:00<00:00, 466.80batch/s]\n"
          ]
        },
        {
          "name": "stdout",
          "output_type": "stream",
          "text": [
            "Epoch 24/40, Average Loss: 0.2847, Accuracy: 89.48%\n"
          ]
        },
        {
          "name": "stderr",
          "output_type": "stream",
          "text": [
            "Epoch 24/40: 100%|██████████| 329/329 [00:00<00:00, 456.73batch/s]\n"
          ]
        },
        {
          "name": "stdout",
          "output_type": "stream",
          "text": [
            "Epoch 25/40, Average Loss: 0.2803, Accuracy: 89.70%\n"
          ]
        },
        {
          "name": "stderr",
          "output_type": "stream",
          "text": [
            "Epoch 25/40: 100%|██████████| 329/329 [00:00<00:00, 379.89batch/s]\n"
          ]
        },
        {
          "name": "stdout",
          "output_type": "stream",
          "text": [
            "Epoch 26/40, Average Loss: 0.2759, Accuracy: 89.80%\n"
          ]
        },
        {
          "name": "stderr",
          "output_type": "stream",
          "text": [
            "Epoch 26/40: 100%|██████████| 329/329 [00:00<00:00, 489.72batch/s]\n"
          ]
        },
        {
          "name": "stdout",
          "output_type": "stream",
          "text": [
            "Epoch 27/40, Average Loss: 0.2718, Accuracy: 89.98%\n"
          ]
        },
        {
          "name": "stderr",
          "output_type": "stream",
          "text": [
            "Epoch 27/40: 100%|██████████| 329/329 [00:00<00:00, 398.88batch/s]\n"
          ]
        },
        {
          "name": "stdout",
          "output_type": "stream",
          "text": [
            "Epoch 28/40, Average Loss: 0.2674, Accuracy: 90.14%\n"
          ]
        },
        {
          "name": "stderr",
          "output_type": "stream",
          "text": [
            "Epoch 28/40: 100%|██████████| 329/329 [00:00<00:00, 504.15batch/s]\n"
          ]
        },
        {
          "name": "stdout",
          "output_type": "stream",
          "text": [
            "Epoch 29/40, Average Loss: 0.2639, Accuracy: 90.28%\n"
          ]
        },
        {
          "name": "stderr",
          "output_type": "stream",
          "text": [
            "Epoch 29/40: 100%|██████████| 329/329 [00:00<00:00, 495.30batch/s]\n"
          ]
        },
        {
          "name": "stdout",
          "output_type": "stream",
          "text": [
            "Epoch 30/40, Average Loss: 0.2593, Accuracy: 90.45%\n"
          ]
        },
        {
          "name": "stderr",
          "output_type": "stream",
          "text": [
            "Epoch 30/40: 100%|██████████| 329/329 [00:00<00:00, 511.69batch/s]\n"
          ]
        },
        {
          "name": "stdout",
          "output_type": "stream",
          "text": [
            "Epoch 31/40, Average Loss: 0.2551, Accuracy: 90.59%\n"
          ]
        },
        {
          "name": "stderr",
          "output_type": "stream",
          "text": [
            "Epoch 31/40: 100%|██████████| 329/329 [00:00<00:00, 547.83batch/s]\n"
          ]
        },
        {
          "name": "stdout",
          "output_type": "stream",
          "text": [
            "Epoch 32/40, Average Loss: 0.2519, Accuracy: 90.72%\n"
          ]
        },
        {
          "name": "stderr",
          "output_type": "stream",
          "text": [
            "Epoch 32/40: 100%|██████████| 329/329 [00:00<00:00, 552.89batch/s]\n"
          ]
        },
        {
          "name": "stdout",
          "output_type": "stream",
          "text": [
            "Epoch 33/40, Average Loss: 0.2481, Accuracy: 90.84%\n"
          ]
        },
        {
          "name": "stderr",
          "output_type": "stream",
          "text": [
            "Epoch 33/40: 100%|██████████| 329/329 [00:00<00:00, 532.72batch/s]\n"
          ]
        },
        {
          "name": "stdout",
          "output_type": "stream",
          "text": [
            "Epoch 34/40, Average Loss: 0.2447, Accuracy: 91.04%\n"
          ]
        },
        {
          "name": "stderr",
          "output_type": "stream",
          "text": [
            "Epoch 34/40: 100%|██████████| 329/329 [00:00<00:00, 520.13batch/s]\n"
          ]
        },
        {
          "name": "stdout",
          "output_type": "stream",
          "text": [
            "Epoch 35/40, Average Loss: 0.2417, Accuracy: 91.16%\n"
          ]
        },
        {
          "name": "stderr",
          "output_type": "stream",
          "text": [
            "Epoch 35/40: 100%|██████████| 329/329 [00:00<00:00, 451.72batch/s]\n"
          ]
        },
        {
          "name": "stdout",
          "output_type": "stream",
          "text": [
            "Epoch 36/40, Average Loss: 0.2380, Accuracy: 91.32%\n"
          ]
        },
        {
          "name": "stderr",
          "output_type": "stream",
          "text": [
            "Epoch 36/40: 100%|██████████| 329/329 [00:00<00:00, 546.95batch/s]\n"
          ]
        },
        {
          "name": "stdout",
          "output_type": "stream",
          "text": [
            "Epoch 37/40, Average Loss: 0.2347, Accuracy: 91.43%\n"
          ]
        },
        {
          "name": "stderr",
          "output_type": "stream",
          "text": [
            "Epoch 37/40: 100%|██████████| 329/329 [00:00<00:00, 474.11batch/s]\n"
          ]
        },
        {
          "name": "stdout",
          "output_type": "stream",
          "text": [
            "Epoch 38/40, Average Loss: 0.2311, Accuracy: 91.55%\n"
          ]
        },
        {
          "name": "stderr",
          "output_type": "stream",
          "text": [
            "Epoch 38/40: 100%|██████████| 329/329 [00:00<00:00, 495.18batch/s]\n"
          ]
        },
        {
          "name": "stdout",
          "output_type": "stream",
          "text": [
            "Epoch 39/40, Average Loss: 0.2281, Accuracy: 91.64%\n"
          ]
        },
        {
          "name": "stderr",
          "output_type": "stream",
          "text": [
            "Epoch 39/40: 100%|██████████| 329/329 [00:00<00:00, 507.58batch/s]\n"
          ]
        },
        {
          "name": "stdout",
          "output_type": "stream",
          "text": [
            "Epoch 40/40, Average Loss: 0.2243, Accuracy: 91.79%\n",
            "Test Accuracy: 85.57%\n",
            "49319\n",
            "Trained model-3 saved successfully at: saved_models/model_3_trained.pth\n"
          ]
        },
        {
          "data": {
            "image/png": "[encoded data removed]",
            "text/plain": [
              "<Figure size 1000x500 with 2 Axes>"
            ]
          },
          "metadata": {},
          "output_type": "display_data"
        }
      ],
      "source": [
        "if MODE==\"TRAIN\" or MODE==\"TRAIN3\":\n",
        "    # Train the third model\n",
        "    model_3 = model_3()\n",
        "    criterion_3 = nn.CrossEntropyLoss()\n",
        "    optimizer_3 = optim.Adam(model_3.parameters(), lr=lr)\n",
        "    model_3 = train_model(model_3, train_loader_7, criterion_3, optimizer_3, 40, \"saved_models/model3.png\")\n",
        "\n",
        "    # Test the third model\n",
        "    test_model(model_3, test_loader_7)\n",
        "    print(count_parameters(model_3))\n",
        "\n",
        "    # Save the trained model\n",
        "    model_path = os.path.join('saved_models', 'model_3_trained.pth')\n",
        "    torch.save(model_3.state_dict(), model_path)\n",
        "    print(f\"Trained model-3 saved successfully at: {model_path}\")"
      ]
    },
    {
      "cell_type": "code",
      "execution_count": 8,
      "metadata": {
        "colab": {
          "base_uri": "https://localhost:8080/"
        },
        "id": "nqNkIzSbA_-D",
        "outputId": "a838a615-dd5e-419d-859b-279dc4d59e7d"
      },
      "outputs": [
        {
          "name": "stderr",
          "output_type": "stream",
          "text": [
            "Epoch 0/40: 100%|██████████| 329/329 [00:11<00:00, 29.35batch/s]\n"
          ]
        },
        {
          "name": "stdout",
          "output_type": "stream",
          "text": [
            "Epoch 1/40, Average Loss: 0.7748, Accuracy: 70.16%\n"
          ]
        },
        {
          "name": "stderr",
          "output_type": "stream",
          "text": [
            "Epoch 1/40: 100%|██████████| 329/329 [00:08<00:00, 40.50batch/s]\n"
          ]
        },
        {
          "name": "stdout",
          "output_type": "stream",
          "text": [
            "Epoch 2/40, Average Loss: 0.5052, Accuracy: 80.79%\n"
          ]
        },
        {
          "name": "stderr",
          "output_type": "stream",
          "text": [
            "Epoch 2/40: 100%|██████████| 329/329 [00:08<00:00, 37.17batch/s]\n"
          ]
        },
        {
          "name": "stdout",
          "output_type": "stream",
          "text": [
            "Epoch 3/40, Average Loss: 0.4422, Accuracy: 83.26%\n"
          ]
        },
        {
          "name": "stderr",
          "output_type": "stream",
          "text": [
            "Epoch 3/40: 100%|██████████| 329/329 [00:09<00:00, 36.03batch/s]\n"
          ]
        },
        {
          "name": "stdout",
          "output_type": "stream",
          "text": [
            "Epoch 4/40, Average Loss: 0.4090, Accuracy: 84.56%\n"
          ]
        },
        {
          "name": "stderr",
          "output_type": "stream",
          "text": [
            "Epoch 4/40: 100%|██████████| 329/329 [00:09<00:00, 34.25batch/s]\n"
          ]
        },
        {
          "name": "stdout",
          "output_type": "stream",
          "text": [
            "Epoch 5/40, Average Loss: 0.3860, Accuracy: 85.49%\n"
          ]
        },
        {
          "name": "stderr",
          "output_type": "stream",
          "text": [
            "Epoch 5/40: 100%|██████████| 329/329 [00:10<00:00, 32.23batch/s]\n"
          ]
        },
        {
          "name": "stdout",
          "output_type": "stream",
          "text": [
            "Epoch 6/40, Average Loss: 0.3681, Accuracy: 86.17%\n"
          ]
        },
        {
          "name": "stderr",
          "output_type": "stream",
          "text": [
            "Epoch 6/40: 100%|██████████| 329/329 [00:09<00:00, 35.91batch/s]\n"
          ]
        },
        {
          "name": "stdout",
          "output_type": "stream",
          "text": [
            "Epoch 7/40, Average Loss: 0.3571, Accuracy: 86.66%\n"
          ]
        },
        {
          "name": "stderr",
          "output_type": "stream",
          "text": [
            "Epoch 7/40: 100%|██████████| 329/329 [00:10<00:00, 31.67batch/s]\n"
          ]
        },
        {
          "name": "stdout",
          "output_type": "stream",
          "text": [
            "Epoch 8/40, Average Loss: 0.3443, Accuracy: 87.15%\n"
          ]
        },
        {
          "name": "stderr",
          "output_type": "stream",
          "text": [
            "Epoch 8/40: 100%|██████████| 329/329 [00:08<00:00, 38.89batch/s]\n"
          ]
        },
        {
          "name": "stdout",
          "output_type": "stream",
          "text": [
            "Epoch 9/40, Average Loss: 0.3311, Accuracy: 87.70%\n"
          ]
        },
        {
          "name": "stderr",
          "output_type": "stream",
          "text": [
            "Epoch 9/40: 100%|██████████| 329/329 [00:08<00:00, 40.29batch/s]\n"
          ]
        },
        {
          "name": "stdout",
          "output_type": "stream",
          "text": [
            "Epoch 10/40, Average Loss: 0.3219, Accuracy: 87.85%\n"
          ]
        },
        {
          "name": "stderr",
          "output_type": "stream",
          "text": [
            "Epoch 10/40: 100%|██████████| 329/329 [00:08<00:00, 38.96batch/s]\n"
          ]
        },
        {
          "name": "stdout",
          "output_type": "stream",
          "text": [
            "Epoch 11/40, Average Loss: 0.3162, Accuracy: 88.17%\n"
          ]
        },
        {
          "name": "stderr",
          "output_type": "stream",
          "text": [
            "Epoch 11/40: 100%|██████████| 329/329 [00:08<00:00, 40.15batch/s]\n"
          ]
        },
        {
          "name": "stdout",
          "output_type": "stream",
          "text": [
            "Epoch 12/40, Average Loss: 0.3056, Accuracy: 88.60%\n"
          ]
        },
        {
          "name": "stderr",
          "output_type": "stream",
          "text": [
            "Epoch 12/40: 100%|██████████| 329/329 [00:08<00:00, 37.29batch/s]\n"
          ]
        },
        {
          "name": "stdout",
          "output_type": "stream",
          "text": [
            "Epoch 13/40, Average Loss: 0.3034, Accuracy: 88.65%\n"
          ]
        },
        {
          "name": "stderr",
          "output_type": "stream",
          "text": [
            "Epoch 13/40: 100%|██████████| 329/329 [00:08<00:00, 39.67batch/s]\n"
          ]
        },
        {
          "name": "stdout",
          "output_type": "stream",
          "text": [
            "Epoch 14/40, Average Loss: 0.2951, Accuracy: 89.05%\n"
          ]
        },
        {
          "name": "stderr",
          "output_type": "stream",
          "text": [
            "Epoch 14/40: 100%|██████████| 329/329 [00:08<00:00, 37.79batch/s]\n"
          ]
        },
        {
          "name": "stdout",
          "output_type": "stream",
          "text": [
            "Epoch 15/40, Average Loss: 0.2903, Accuracy: 89.10%\n"
          ]
        },
        {
          "name": "stderr",
          "output_type": "stream",
          "text": [
            "Epoch 15/40: 100%|██████████| 329/329 [00:08<00:00, 39.04batch/s]\n"
          ]
        },
        {
          "name": "stdout",
          "output_type": "stream",
          "text": [
            "Epoch 16/40, Average Loss: 0.2810, Accuracy: 89.47%\n"
          ]
        },
        {
          "name": "stderr",
          "output_type": "stream",
          "text": [
            "Epoch 16/40: 100%|██████████| 329/329 [00:08<00:00, 38.79batch/s]\n"
          ]
        },
        {
          "name": "stdout",
          "output_type": "stream",
          "text": [
            "Epoch 17/40, Average Loss: 0.2778, Accuracy: 89.70%\n"
          ]
        },
        {
          "name": "stderr",
          "output_type": "stream",
          "text": [
            "Epoch 17/40: 100%|██████████| 329/329 [00:08<00:00, 38.82batch/s]\n"
          ]
        },
        {
          "name": "stdout",
          "output_type": "stream",
          "text": [
            "Epoch 18/40, Average Loss: 0.2735, Accuracy: 89.73%\n"
          ]
        },
        {
          "name": "stderr",
          "output_type": "stream",
          "text": [
            "Epoch 18/40: 100%|██████████| 329/329 [00:08<00:00, 39.11batch/s]\n"
          ]
        },
        {
          "name": "stdout",
          "output_type": "stream",
          "text": [
            "Epoch 19/40, Average Loss: 0.2690, Accuracy: 89.82%\n"
          ]
        },
        {
          "name": "stderr",
          "output_type": "stream",
          "text": [
            "Epoch 19/40: 100%|██████████| 329/329 [00:08<00:00, 38.33batch/s]\n"
          ]
        },
        {
          "name": "stdout",
          "output_type": "stream",
          "text": [
            "Epoch 20/40, Average Loss: 0.2633, Accuracy: 90.01%\n"
          ]
        },
        {
          "name": "stderr",
          "output_type": "stream",
          "text": [
            "Epoch 20/40: 100%|██████████| 329/329 [00:08<00:00, 37.90batch/s]\n"
          ]
        },
        {
          "name": "stdout",
          "output_type": "stream",
          "text": [
            "Epoch 21/40, Average Loss: 0.2614, Accuracy: 90.17%\n"
          ]
        },
        {
          "name": "stderr",
          "output_type": "stream",
          "text": [
            "Epoch 21/40: 100%|██████████| 329/329 [00:08<00:00, 37.99batch/s]\n"
          ]
        },
        {
          "name": "stdout",
          "output_type": "stream",
          "text": [
            "Epoch 22/40, Average Loss: 0.2586, Accuracy: 90.20%\n"
          ]
        },
        {
          "name": "stderr",
          "output_type": "stream",
          "text": [
            "Epoch 22/40: 100%|██████████| 329/329 [00:08<00:00, 39.15batch/s]\n"
          ]
        },
        {
          "name": "stdout",
          "output_type": "stream",
          "text": [
            "Epoch 23/40, Average Loss: 0.2535, Accuracy: 90.39%\n"
          ]
        },
        {
          "name": "stderr",
          "output_type": "stream",
          "text": [
            "Epoch 23/40: 100%|██████████| 329/329 [00:08<00:00, 38.49batch/s]\n"
          ]
        },
        {
          "name": "stdout",
          "output_type": "stream",
          "text": [
            "Epoch 24/40, Average Loss: 0.2520, Accuracy: 90.59%\n"
          ]
        },
        {
          "name": "stderr",
          "output_type": "stream",
          "text": [
            "Epoch 24/40: 100%|██████████| 329/329 [00:08<00:00, 36.99batch/s]\n"
          ]
        },
        {
          "name": "stdout",
          "output_type": "stream",
          "text": [
            "Epoch 25/40, Average Loss: 0.2453, Accuracy: 90.88%\n"
          ]
        },
        {
          "name": "stderr",
          "output_type": "stream",
          "text": [
            "Epoch 25/40: 100%|██████████| 329/329 [00:08<00:00, 39.27batch/s]\n"
          ]
        },
        {
          "name": "stdout",
          "output_type": "stream",
          "text": [
            "Epoch 26/40, Average Loss: 0.2428, Accuracy: 90.80%\n"
          ]
        },
        {
          "name": "stderr",
          "output_type": "stream",
          "text": [
            "Epoch 26/40: 100%|██████████| 329/329 [00:08<00:00, 38.29batch/s]\n"
          ]
        },
        {
          "name": "stdout",
          "output_type": "stream",
          "text": [
            "Epoch 27/40, Average Loss: 0.2398, Accuracy: 91.07%\n"
          ]
        },
        {
          "name": "stderr",
          "output_type": "stream",
          "text": [
            "Epoch 27/40: 100%|██████████| 329/329 [00:08<00:00, 38.67batch/s]\n"
          ]
        },
        {
          "name": "stdout",
          "output_type": "stream",
          "text": [
            "Epoch 28/40, Average Loss: 0.2396, Accuracy: 90.89%\n"
          ]
        },
        {
          "name": "stderr",
          "output_type": "stream",
          "text": [
            "Epoch 28/40: 100%|██████████| 329/329 [00:09<00:00, 35.64batch/s]\n"
          ]
        },
        {
          "name": "stdout",
          "output_type": "stream",
          "text": [
            "Epoch 29/40, Average Loss: 0.2348, Accuracy: 91.35%\n"
          ]
        },
        {
          "name": "stderr",
          "output_type": "stream",
          "text": [
            "Epoch 29/40: 100%|██████████| 329/329 [00:09<00:00, 36.55batch/s]\n"
          ]
        },
        {
          "name": "stdout",
          "output_type": "stream",
          "text": [
            "Epoch 30/40, Average Loss: 0.2331, Accuracy: 91.29%\n"
          ]
        },
        {
          "name": "stderr",
          "output_type": "stream",
          "text": [
            "Epoch 30/40: 100%|██████████| 329/329 [00:08<00:00, 38.16batch/s]\n"
          ]
        },
        {
          "name": "stdout",
          "output_type": "stream",
          "text": [
            "Epoch 31/40, Average Loss: 0.2337, Accuracy: 91.25%\n"
          ]
        },
        {
          "name": "stderr",
          "output_type": "stream",
          "text": [
            "Epoch 31/40: 100%|██████████| 329/329 [00:08<00:00, 37.58batch/s]\n"
          ]
        },
        {
          "name": "stdout",
          "output_type": "stream",
          "text": [
            "Epoch 32/40, Average Loss: 0.2289, Accuracy: 91.46%\n"
          ]
        },
        {
          "name": "stderr",
          "output_type": "stream",
          "text": [
            "Epoch 32/40: 100%|██████████| 329/329 [00:08<00:00, 38.59batch/s]\n"
          ]
        },
        {
          "name": "stdout",
          "output_type": "stream",
          "text": [
            "Epoch 33/40, Average Loss: 0.2249, Accuracy: 91.63%\n"
          ]
        },
        {
          "name": "stderr",
          "output_type": "stream",
          "text": [
            "Epoch 33/40: 100%|██████████| 329/329 [00:08<00:00, 37.83batch/s]\n"
          ]
        },
        {
          "name": "stdout",
          "output_type": "stream",
          "text": [
            "Epoch 34/40, Average Loss: 0.2234, Accuracy: 91.54%\n"
          ]
        },
        {
          "name": "stderr",
          "output_type": "stream",
          "text": [
            "Epoch 34/40: 100%|██████████| 329/329 [00:08<00:00, 37.88batch/s]\n"
          ]
        },
        {
          "name": "stdout",
          "output_type": "stream",
          "text": [
            "Epoch 35/40, Average Loss: 0.2197, Accuracy: 91.82%\n"
          ]
        },
        {
          "name": "stderr",
          "output_type": "stream",
          "text": [
            "Epoch 35/40: 100%|██████████| 329/329 [00:08<00:00, 38.59batch/s]\n"
          ]
        },
        {
          "name": "stdout",
          "output_type": "stream",
          "text": [
            "Epoch 36/40, Average Loss: 0.2189, Accuracy: 91.75%\n"
          ]
        },
        {
          "name": "stderr",
          "output_type": "stream",
          "text": [
            "Epoch 36/40: 100%|██████████| 329/329 [00:08<00:00, 37.90batch/s]\n"
          ]
        },
        {
          "name": "stdout",
          "output_type": "stream",
          "text": [
            "Epoch 37/40, Average Loss: 0.2191, Accuracy: 91.79%\n"
          ]
        },
        {
          "name": "stderr",
          "output_type": "stream",
          "text": [
            "Epoch 37/40: 100%|██████████| 329/329 [00:08<00:00, 38.30batch/s]\n"
          ]
        },
        {
          "name": "stdout",
          "output_type": "stream",
          "text": [
            "Epoch 38/40, Average Loss: 0.2168, Accuracy: 91.82%\n"
          ]
        },
        {
          "name": "stderr",
          "output_type": "stream",
          "text": [
            "Epoch 38/40: 100%|██████████| 329/329 [00:08<00:00, 37.59batch/s]\n"
          ]
        },
        {
          "name": "stdout",
          "output_type": "stream",
          "text": [
            "Epoch 39/40, Average Loss: 0.2131, Accuracy: 91.94%\n"
          ]
        },
        {
          "name": "stderr",
          "output_type": "stream",
          "text": [
            "Epoch 39/40: 100%|██████████| 329/329 [00:08<00:00, 37.59batch/s]\n"
          ]
        },
        {
          "name": "stdout",
          "output_type": "stream",
          "text": [
            "Epoch 40/40, Average Loss: 0.2139, Accuracy: 91.96%\n",
            "Test Accuracy: 89.60%\n",
            "45607\n",
            "Trained model-4 saved successfully at: saved_models/model_4_trained.pth\n"
          ]
        },
        {
          "data": {
            "image/png": "[encoded data removed]",
            "text/plain": [
              "<Figure size 1000x500 with 2 Axes>"
            ]
          },
          "metadata": {},
          "output_type": "display_data"
        }
      ],
      "source": [
        "if MODE==\"TRAIN\" or MODE==\"TRAIN4\":\n",
        "    # Train the forth model\n",
        "    model_4 = model_4()\n",
        "    criterion_4 = nn.CrossEntropyLoss()\n",
        "    optimizer_4 = optim.Adam(model_4.parameters(), lr=lr)\n",
        "    model_4 = train_model(model_4, train_loader_7, criterion_4, optimizer_4, 40, \"saved_models/model4.png\")\n",
        "    # Test the forth model\n",
        "    test_model(model_4, test_loader_7)\n",
        "    print(count_parameters(model_4))\n",
        "\n",
        "    # Save the trained model\n",
        "    model_path = os.path.join('saved_models', 'model_4_trained.pth')\n",
        "    torch.save(model_4.state_dict(), model_path)\n",
        "    print(f\"Trained model-4 saved successfully at: {model_path}\")"
      ]
    }
  ],
  "metadata": {
    "colab": {
      "provenance": []
    },
    "kernelspec": {
      "display_name": "base",
      "language": "python",
      "name": "python3"
    },
    "language_info": {
      "codemirror_mode": {
        "name": "ipython",
        "version": 3
      },
      "file_extension": ".py",
      "mimetype": "text/x-python",
      "name": "python",
      "nbconvert_exporter": "python",
      "pygments_lexer": "ipython3",
      "version": "3.10.9"
    }
  },
  "nbformat": 4,
  "nbformat_minor": 0
}
